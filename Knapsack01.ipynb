{
  "nbformat": 4,
  "nbformat_minor": 0,
  "metadata": {
    "language_info": {
      "name": "python",
      "version": "3.7.6",
      "mimetype": "text/x-python",
      "codemirror_mode": {
        "name": "ipython",
        "version": 3
      },
      "pygments_lexer": "ipython3",
      "nbconvert_exporter": "python",
      "file_extension": ".py"
    },
    "kernelspec": {
      "name": "python3",
      "display_name": "Python 3",
      "language": "python"
    },
    "colab": {
      "name": "Knapsack01.ipynb",
      "provenance": [],
      "collapsed_sections": [],
      "include_colab_link": true
    }
  },
  "cells": [
    {
      "cell_type": "markdown",
      "metadata": {
        "id": "view-in-github",
        "colab_type": "text"
      },
      "source": [
        "<a href=\"https://colab.research.google.com/github/Shantanu1395/Notebooks/blob/master/Knapsack01.ipynb\" target=\"_parent\"><img src=\"https://colab.research.google.com/assets/colab-badge.svg\" alt=\"Open In Colab\"/></a>"
      ]
    },
    {
      "cell_type": "markdown",
      "metadata": {
        "id": "KxbSp48APcPh",
        "colab_type": "text"
      },
      "source": [
        "## Problem - Get *max profit* thief can gain by looting items(with weight & value) using a bag of capacity W"
      ]
    },
    {
      "cell_type": "markdown",
      "metadata": {
        "id": "-ph3mygMPcPj",
        "colab_type": "text"
      },
      "source": [
        "Initialize variables"
      ]
    },
    {
      "cell_type": "code",
      "metadata": {
        "id": "cC2i3e4VPcPk",
        "colab_type": "code",
        "colab": {}
      },
      "source": [
        "cap = 50\n",
        "wt = [10, 20, 30]\n",
        "val = [60, 100, 120]\n",
        "n = len(wt)"
      ],
      "execution_count": null,
      "outputs": []
    },
    {
      "cell_type": "markdown",
      "metadata": {
        "id": "P3mYbDLEPcPu",
        "colab_type": "text"
      },
      "source": [
        "Choosing Base condition\n",
        "\n",
        "    Get result for smallest valid input\n",
        "\n",
        "Choosing Recursive Solution\n",
        "\n",
        "    Code as per Decision Diagram & decrease the dataset\n",
        "    \n",
        "    \n",
        "Decision Tree\n",
        "    \n",
        "            w(i) < W\n",
        "            /        \\\n",
        "          Can be     Can't be placed\n",
        "      placed in bag  \n",
        "      /          \\\n",
        "    Choose      Not Choose  "
      ]
    },
    {
      "cell_type": "markdown",
      "metadata": {
        "id": "8EDgQzO1PcPv",
        "colab_type": "text"
      },
      "source": [
        "**Resursive Approach**"
      ]
    },
    {
      "cell_type": "code",
      "metadata": {
        "trusted": true,
        "id": "jSp6PZjgPcPw",
        "colab_type": "code",
        "colab": {}
      },
      "source": [
        "def knapsack(wt, val, cap, n):\n",
        "    \n",
        "    if n == 0 or cap == 0 :\n",
        "        return 0\n",
        "    else:\n",
        "        if wt[n-1]<=cap:\n",
        "            return max(val[n-1] + knapsack(wt, val, cap - wt[n-1], n-1), knapsack(wt, val, cap, n-1))\n",
        "        else:\n",
        "            return knapsack(wt, val, cap, n-1)"
      ],
      "execution_count": null,
      "outputs": []
    },
    {
      "cell_type": "code",
      "metadata": {
        "trusted": true,
        "id": "X9o0U8_-PcP2",
        "colab_type": "code",
        "colab": {}
      },
      "source": [
        "print(knapsack(wt, val, cap, n))"
      ],
      "execution_count": null,
      "outputs": []
    },
    {
      "cell_type": "markdown",
      "metadata": {
        "id": "qsyRBD2gPcP-",
        "colab_type": "text"
      },
      "source": [
        "**Adding memorization** - Create matrix for variables which are changing in recursion(cap & n)"
      ]
    },
    {
      "cell_type": "code",
      "metadata": {
        "trusted": true,
        "id": "QFIMvBZ8PcQA",
        "colab_type": "code",
        "colab": {}
      },
      "source": [
        "result = [[-1 for i in range(cap+1)] for j in range(n+1)]"
      ],
      "execution_count": null,
      "outputs": []
    },
    {
      "cell_type": "code",
      "metadata": {
        "trusted": true,
        "id": "L_wWsYBVPcQG",
        "colab_type": "code",
        "colab": {}
      },
      "source": [
        "def knapsack(wt, val, cap, n):\n",
        "    if n == 0 or cap == 0 :\n",
        "        return 0\n",
        "    if result[n][cap] != -1:\n",
        "        return result[n][cap]\n",
        "    else:\n",
        "        if wt[n-1]<=cap:\n",
        "            result[n][cap] = max(val[n-1] + knapsack(wt, val, cap - wt[n-1], n-1), knapsack(wt, val, cap, n-1))\n",
        "            return result[n][cap]\n",
        "        else:\n",
        "            result[n][cap] = knapsack(wt, val, cap, n-1) \n",
        "            return result[n][cap]"
      ],
      "execution_count": null,
      "outputs": []
    },
    {
      "cell_type": "code",
      "metadata": {
        "trusted": true,
        "id": "Blwj3JtlPcQM",
        "colab_type": "code",
        "colab": {}
      },
      "source": [
        "print(knapsack(wt, val, cap, n))"
      ],
      "execution_count": null,
      "outputs": []
    },
    {
      "cell_type": "markdown",
      "metadata": {
        "id": "EJiwz-zhRN7B",
        "colab_type": "text"
      },
      "source": [
        "**Top Down**\n",
        "\n",
        "Base Condition => Initialization\n",
        "\n",
        "Recursive Call => Matrix with changing params"
      ]
    },
    {
      "cell_type": "code",
      "metadata": {
        "id": "ibIgVtuFRWS0",
        "colab_type": "code",
        "colab": {}
      },
      "source": [
        "result = [[0 for i in range(cap+1)] for j in range(n+1)]"
      ],
      "execution_count": null,
      "outputs": []
    },
    {
      "cell_type": "code",
      "metadata": {
        "id": "pxXy31R5Sa89",
        "colab_type": "code",
        "colab": {}
      },
      "source": [
        "def knapsack(wt, val, cap, n):\n",
        "    for i in range(1, n+1):\n",
        "      for j in range(1, cap+1):\n",
        "          if j >= wt[i-1]:\n",
        "              result[i][j] = max(val[i-1] + result[i-1][j-wt[i-1]], result[i-1][j])\n",
        "          else:\n",
        "              result[i][j] = result[i-1][j]\n"
      ],
      "execution_count": null,
      "outputs": []
    },
    {
      "cell_type": "code",
      "metadata": {
        "id": "LT421TyQU5fA",
        "colab_type": "code",
        "colab": {}
      },
      "source": [
        "knapsack(wt, val, cap, n)\n",
        "print(result[n][cap])"
      ],
      "execution_count": null,
      "outputs": []
    }
  ]
}